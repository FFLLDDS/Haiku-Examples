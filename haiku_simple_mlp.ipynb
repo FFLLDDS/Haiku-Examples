{
 "cells": [
  {
   "cell_type": "markdown",
   "metadata": {},
   "source": [
    "## Haiku tutorial"
   ]
  },
  {
   "cell_type": "code",
   "execution_count": null,
   "metadata": {},
   "outputs": [],
   "source": [
    "import numpy as np\n",
    "import jax\n",
    "import jax.numpy as jnp\n",
    "import haiku as hk\n",
    "import optax\n"
   ]
  },
  {
   "cell_type": "markdown",
   "metadata": {},
   "source": [
    "#### import MNIST dataset"
   ]
  },
  {
   "cell_type": "code",
   "execution_count": null,
   "metadata": {},
   "outputs": [],
   "source": [
    "\n",
    "import torch\n",
    "import torchvision\n",
    "\n",
    "PATH = 'data'\n",
    "BATCHSIZE = 128\n",
    "\n",
    "\n",
    "def custom_transform(x):\n",
    "    return np.reshape(np.array(x, dtype=np.float32), (28*28,)) / 255.\n",
    "\n",
    "def custom_collate_fn(batch):\n",
    "    \"\"\" ... \"\"\"\n",
    "    transposed_data = list(zip(*batch))\n",
    "\n",
    "    labels = np.array(transposed_data[1])\n",
    "    imgs = np.stack(transposed_data[0])\n",
    "\n",
    "    return imgs, labels\n",
    "\n",
    "\n",
    "train_data = torchvision.datasets.MNIST(root=PATH, train=True, transform=custom_transform, download=True)\n",
    "test_data = torchvision.datasets.MNIST(root=PATH, train=False, transform=custom_transform, download=True)\n",
    "\n",
    "\n",
    "train_loader = torch.utils.data.DataLoader(train_data, batch_size=BATCHSIZE, shuffle=True, collate_fn=custom_collate_fn, drop_last=True)\n",
    "test_loader = torch.utils.data.DataLoader(test_data, batch_size=BATCHSIZE, shuffle=False, collate_fn=custom_collate_fn, drop_last=True)"
   ]
  },
  {
   "cell_type": "markdown",
   "metadata": {},
   "source": [
    "#### define forward/model with haiku, init params, define loss, optimizer and update"
   ]
  },
  {
   "cell_type": "code",
   "execution_count": null,
   "metadata": {},
   "outputs": [],
   "source": [
    "# define forward and wrap in transform\n",
    "def forward(x):\n",
    "  mlp = hk.nets.MLP([784, 100, 10])\n",
    "  return mlp(x)\n",
    "\n",
    "forward = hk.transform(forward)\n",
    "\n",
    "# init params\n",
    "rng = jax.random.PRNGKey(42)\n",
    "x = jnp.ones([28 * 28])\n",
    "params = forward.init(rng, x)\n",
    "# logits = forward.apply(params, rng, x)  # rng = jax.random.PRNGKey(42) or None\n",
    "\n",
    "forward = hk.without_apply_rng(forward) # random key not needed/ to get rid of the None\n",
    "\n",
    "def loss(params, x, y): \n",
    "  y_onehot =  jax.nn.one_hot(y, num_classes=10)\n",
    "  y_hat = forward.apply(params, x)\n",
    "  return jnp.sum(optax.l2_loss(y_hat, y_onehot))  # using loss from optax\n",
    "\n",
    "# optimizer from optax\n",
    "optimizer = optax.adam(learning_rate=1e-2)\n",
    "\n",
    "@jax.jit\n",
    "def update(params, opt_state, x, y):\n",
    "  grad = jax.grad(loss)(params, x, y)\n",
    "  updates, opt_state = optimizer.update(grad, opt_state, params)\n",
    "  params = optax.apply_updates(params, updates)\n",
    "  return params, opt_state\n",
    "\n",
    "jax.tree_map(lambda x: x.shape, params)\n"
   ]
  },
  {
   "cell_type": "markdown",
   "metadata": {},
   "source": [
    "#### train"
   ]
  },
  {
   "cell_type": "code",
   "execution_count": null,
   "metadata": {},
   "outputs": [],
   "source": [
    "opt_state = optimizer.init(params)\n",
    "\n",
    "EPOCHS = 3\n",
    "for epoch in range(EPOCHS): \n",
    "    for xs, ys in train_loader: \n",
    "        params, opt_state = update(params, opt_state, xs, ys)\n"
   ]
  },
  {
   "cell_type": "markdown",
   "metadata": {},
   "source": [
    "#### test"
   ]
  },
  {
   "cell_type": "code",
   "execution_count": null,
   "metadata": {},
   "outputs": [],
   "source": [
    "imgs, labels = next(iter(test_loader))\n",
    "r_int = np.random.randint(0, BATCHSIZE-1)\n",
    "img = imgs[r_int]\n",
    "\n",
    "print(img.shape)\n",
    "\n",
    "prediction = forward.apply(params, img)\n",
    "\n",
    "print(f'predicted: {np.argmax(prediction)}, label: {labels[r_int]}')\n",
    "\n",
    "import matplotlib.pyplot as plt\n",
    "plt.imshow(np.reshape(img, (28, -1)))"
   ]
  }
 ],
 "metadata": {
  "interpreter": {
   "hash": "31c2e67c17392aa87f888ec0da8938d8b923f5efb5972cb4e6d22b0cd53c63d5"
  },
  "kernelspec": {
   "display_name": "Python 3.9.7 ('island')",
   "language": "python",
   "name": "python3"
  },
  "language_info": {
   "codemirror_mode": {
    "name": "ipython",
    "version": 3
   },
   "file_extension": ".py",
   "mimetype": "text/x-python",
   "name": "python",
   "nbconvert_exporter": "python",
   "pygments_lexer": "ipython3",
   "version": "3.9.6"
  },
  "orig_nbformat": 4
 },
 "nbformat": 4,
 "nbformat_minor": 2
}
