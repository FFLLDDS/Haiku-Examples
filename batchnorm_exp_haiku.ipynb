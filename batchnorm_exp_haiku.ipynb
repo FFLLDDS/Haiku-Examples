{
 "cells": [
  {
   "cell_type": "markdown",
   "metadata": {},
   "source": [
    "### simple (not actually useful) implementation to understand haiku.BatchNorm()"
   ]
  },
  {
   "cell_type": "code",
   "execution_count": null,
   "metadata": {},
   "outputs": [],
   "source": [
    "import numpy as np\n",
    "import jax\n",
    "import jax.numpy as jnp\n",
    "import haiku as hk\n",
    "import optax"
   ]
  },
  {
   "cell_type": "markdown",
   "metadata": {},
   "source": [
    "#### import CIFAR-10"
   ]
  },
  {
   "cell_type": "code",
   "execution_count": null,
   "metadata": {},
   "outputs": [],
   "source": [
    "import torch\n",
    "import torchvision\n",
    "\n",
    "PATH = 'data'\n",
    "BATCH_SIZE = 16\n",
    "\n",
    "\n",
    "\n",
    "def custom_transform(x):\n",
    "    return (np.array(x, dtype=np.float32)/255.0 -0.5) * 2\n",
    "\n",
    "def custom_collate_fn(batch):\n",
    "    \"\"\" gets list of tuples and returns seperated images and labels as ndarrays \"\"\"\n",
    "    transposed_data = list(zip(*batch))\n",
    "\n",
    "    labels = np.array(transposed_data[1])\n",
    "    imgs = np.stack(transposed_data[0])\n",
    "\n",
    "    return imgs, labels\n",
    "\n",
    "\n",
    "train_data = torchvision.datasets.CIFAR10(root=PATH, train=True, transform=custom_transform, download=True)\n",
    "test_data = torchvision.datasets.CIFAR10(root=PATH, train=False, transform=custom_transform, download=True)\n",
    "\n",
    "\n",
    "train_loader = torch.utils.data.DataLoader(train_data, batch_size=BATCH_SIZE, shuffle=True, collate_fn=custom_collate_fn)\n",
    "test_loader = torch.utils.data.DataLoader(test_data, batch_size=BATCH_SIZE, shuffle=False, collate_fn=custom_collate_fn)\n",
    "\n",
    "classes = ('plane', 'car', 'bird', 'cat',\n",
    "           'deer', 'dog', 'frog', 'horse', 'ship', 'truck')"
   ]
  },
  {
   "cell_type": "markdown",
   "metadata": {},
   "source": [
    "#### check data"
   ]
  },
  {
   "cell_type": "code",
   "execution_count": null,
   "metadata": {},
   "outputs": [],
   "source": [
    "import matplotlib.pyplot as plt\n",
    "\n",
    "x, y = next(iter(train_loader))\n",
    "\n",
    "print('x[0].shape, x[0].dtype: ', x[0].shape, x[0].dtype)\n",
    "\n",
    "img = x[0] * 0.5 + 0.5\n",
    "\n",
    "print(f'label: {classes[y[0]]}, {y[0]}')\n",
    "plt.imshow(img)\n",
    "plt.axis(\"off\")"
   ]
  },
  {
   "cell_type": "markdown",
   "metadata": {},
   "source": [
    "#### define model"
   ]
  },
  {
   "cell_type": "code",
   "execution_count": null,
   "metadata": {},
   "outputs": [],
   "source": [
    "def _batchnet(x, is_training):\n",
    "    batch_norm = hk.BatchNorm(create_scale=False, create_offset=False, decay_rate=0.9)\n",
    "    flatten = hk.Flatten()\n",
    "    linear = hk.Linear(len(classes))\n",
    "    return linear(flatten(batch_norm(x, is_training)))\n",
    "\n",
    "batchnet = hk.transform_with_state(_batchnet)\n",
    "batchnet = hk.without_apply_rng(batchnet)"
   ]
  },
  {
   "cell_type": "markdown",
   "metadata": {},
   "source": [
    "#### init model"
   ]
  },
  {
   "cell_type": "code",
   "execution_count": null,
   "metadata": {},
   "outputs": [],
   "source": [
    "rng = jax.random.PRNGKey(42)\n",
    "\n",
    "x = jnp.ones((1, 32, 32, 3))\n",
    "\n",
    "# params, batch_state = batchnet.init(rng, x)\n",
    "# or in case no default in _batchnet: \n",
    "params, batch_state = batchnet.init(rng, x, is_training=True)\n",
    "\n",
    "print(jax.tree_map(lambda x: x.shape, params))\n",
    "\n",
    "# print('batch_state: ', batch_state)\n",
    "jax.tree_map(lambda x: x.shape, batch_state)"
   ]
  },
  {
   "cell_type": "markdown",
   "metadata": {},
   "source": [
    "#### check forward pass"
   ]
  },
  {
   "cell_type": "code",
   "execution_count": null,
   "metadata": {},
   "outputs": [],
   "source": [
    "x, y = next(iter(train_loader))\n",
    "\n",
    "print('x.shape: ', x.shape)\n",
    "\n",
    "preds, batch_state = batchnet.apply(params, batch_state, x, is_training=False)\n",
    "\n",
    "print('preds.shape: ', preds.shape)\n",
    "jax.tree_map(lambda x: x.shape, batch_state)"
   ]
  },
  {
   "cell_type": "markdown",
   "metadata": {},
   "source": [
    "#### define loss"
   ]
  },
  {
   "cell_type": "code",
   "execution_count": null,
   "metadata": {},
   "outputs": [],
   "source": [
    "def loss(params, batch_state, x, y): \n",
    "  y_onehot =  jax.nn.one_hot(y, num_classes=10)\n",
    "  y_hat, batch_state = batchnet.apply(params, batch_state, x, is_training=True)\n",
    "  return jnp.mean(optax.softmax_cross_entropy(y_hat, y_onehot)), batch_state\n"
   ]
  },
  {
   "cell_type": "markdown",
   "metadata": {},
   "source": [
    "#### define optimizer and update function"
   ]
  },
  {
   "cell_type": "code",
   "execution_count": null,
   "metadata": {},
   "outputs": [],
   "source": [
    "optimizer = optax.adam(learning_rate=1e-3) \n",
    "opt_state = optimizer.init(params)\n",
    "\n",
    "@jax.jit\n",
    "def update(params, batch_state, opt_state, x, y):\n",
    "  grad, batch_state = jax.grad(loss, has_aux=True)(params, batch_state, x, y)\n",
    "  updates, opt_state = optimizer.update(grad, opt_state, params)\n",
    "  params = optax.apply_updates(params, updates)\n",
    "  return params, batch_state, opt_state\n"
   ]
  },
  {
   "cell_type": "markdown",
   "metadata": {},
   "source": [
    "#### train"
   ]
  },
  {
   "cell_type": "code",
   "execution_count": null,
   "metadata": {},
   "outputs": [],
   "source": [
    "\n",
    "EPOCHS = 1\n",
    "for epoch in range(EPOCHS): \n",
    "    for xs, ys in train_loader: \n",
    "        params, batch_state, opt_state = update(params, batch_state, opt_state, xs, ys)"
   ]
  },
  {
   "cell_type": "markdown",
   "metadata": {},
   "source": [
    "#### test"
   ]
  },
  {
   "cell_type": "code",
   "execution_count": null,
   "metadata": {},
   "outputs": [],
   "source": [
    "imgs, labels = next(iter(train_loader))\n",
    "img = imgs[0]\n",
    "im = np.expand_dims(img, axis=0)\n",
    "\n",
    "print(img.shape)\n",
    "print(im.shape)\n",
    "\n",
    "im = np.expand_dims(img, axis=0)\n",
    "\n",
    "prediction, batch_state = batchnet.apply(params, batch_state, x=im, is_training=False)\n",
    "\n",
    "pred = classes[np.argmax(prediction)]\n",
    "label = classes[labels[0]]\n",
    "\n",
    "print(f'predicted: {pred}, label: {label}')\n",
    "\n",
    "import matplotlib.pyplot as plt\n",
    "plt.imshow(img*0.5 + 0.5)\n",
    "plt.axis('off')"
   ]
  }
 ],
 "metadata": {
  "interpreter": {
   "hash": "31c2e67c17392aa87f888ec0da8938d8b923f5efb5972cb4e6d22b0cd53c63d5"
  },
  "kernelspec": {
   "display_name": "Python 3.9.7 ('island')",
   "language": "python",
   "name": "python3"
  },
  "language_info": {
   "codemirror_mode": {
    "name": "ipython",
    "version": 3
   },
   "file_extension": ".py",
   "mimetype": "text/x-python",
   "name": "python",
   "nbconvert_exporter": "python",
   "pygments_lexer": "ipython3",
   "version": "3.9.6"
  },
  "orig_nbformat": 4
 },
 "nbformat": 4,
 "nbformat_minor": 2
}
