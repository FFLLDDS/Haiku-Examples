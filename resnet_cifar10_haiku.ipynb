{
 "cells": [
  {
   "cell_type": "markdown",
   "metadata": {},
   "source": [
    "### ResNet"
   ]
  },
  {
   "cell_type": "code",
   "execution_count": null,
   "metadata": {},
   "outputs": [],
   "source": [
    "import numpy as np\n",
    "import jax\n",
    "import jax.numpy as jnp\n",
    "import haiku as hk\n",
    "import optax"
   ]
  },
  {
   "cell_type": "markdown",
   "metadata": {},
   "source": [
    "#### import CIFAR-10"
   ]
  },
  {
   "cell_type": "code",
   "execution_count": null,
   "metadata": {},
   "outputs": [],
   "source": [
    "import torch\n",
    "import torchvision\n",
    "\n",
    "PATH = 'data'\n",
    "BATCH_SIZE = 16\n",
    "\n",
    "\n",
    "def custom_transform(x):\n",
    "    return (np.array(x, dtype=np.float32)/255.0 -0.5) * 2\n",
    "\n",
    "def custom_collate_fn(batch):\n",
    "    \"\"\" gets list of tuples and returns seperated images and labels as ndarrays \"\"\"\n",
    "    transposed_data = list(zip(*batch))\n",
    "\n",
    "    labels = np.array(transposed_data[1])\n",
    "    imgs = np.stack(transposed_data[0])\n",
    "\n",
    "    return imgs, labels\n",
    "\n",
    "\n",
    "train_data = torchvision.datasets.CIFAR10(root=PATH, train=True, transform=custom_transform, download=True)\n",
    "test_data = torchvision.datasets.CIFAR10(root=PATH, train=False, transform=custom_transform, download=True)\n",
    "\n",
    "\n",
    "train_loader = torch.utils.data.DataLoader(train_data, batch_size=BATCH_SIZE, shuffle=True, collate_fn=custom_collate_fn)\n",
    "test_loader = torch.utils.data.DataLoader(test_data, batch_size=BATCH_SIZE, shuffle=False, collate_fn=custom_collate_fn)\n",
    "\n",
    "classes = ('plane', 'car', 'bird', 'cat',\n",
    "           'deer', 'dog', 'frog', 'horse', 'ship', 'truck')"
   ]
  },
  {
   "cell_type": "markdown",
   "metadata": {},
   "source": [
    "#### check data"
   ]
  },
  {
   "cell_type": "code",
   "execution_count": null,
   "metadata": {},
   "outputs": [],
   "source": [
    "import matplotlib.pyplot as plt\n",
    "\n",
    "x, y = next(iter(train_loader))\n",
    "\n",
    "print('x[0].shape: ', x[0].shape)\n",
    "\n",
    "img = x[0] * 0.5 + 0.5\n",
    "\n",
    "print(f'label: {classes[y[0]]}, {y[0]}')\n",
    "plt.imshow(img)\n",
    "plt.axis(\"off\")"
   ]
  },
  {
   "cell_type": "markdown",
   "metadata": {},
   "source": [
    "#### define model"
   ]
  },
  {
   "cell_type": "code",
   "execution_count": null,
   "metadata": {},
   "outputs": [],
   "source": [
    "\n",
    "class Res1(hk.Module):\n",
    "    \"\"\"Residual Module 1\"\"\"\n",
    "    def __init__(self):\n",
    "        super().__init__()\n",
    "        \n",
    "    def __call__(self, x_in, is_training):\n",
    "        \n",
    "        x = hk.Conv2D(output_channels=32, kernel_shape=(3,3), padding=\"SAME\")(x_in)\n",
    "        x = hk.BatchNorm(create_scale=False, create_offset=False, decay_rate=0.9)(x, is_training=is_training)\n",
    "        x = jax.nn.relu(x)\n",
    "        x = hk.Conv2D(output_channels=32, kernel_shape=(3,3), padding=\"SAME\")(x)\n",
    "        x = hk.BatchNorm(create_scale=False, create_offset=False, decay_rate=0.9)(x, is_training=is_training)\n",
    "        x = jax.nn.relu(x)\n",
    "        \n",
    "        return x\n",
    "    \n",
    "class Res2(hk.Module):\n",
    "    \"\"\"Residual Module 2\"\"\"\n",
    "    def __init__(self):\n",
    "        super().__init__()\n",
    "        \n",
    "    def __call__(self, x_in, is_training):\n",
    "        \n",
    "        x = hk.Conv2D(output_channels=64, kernel_shape=(3,3), stride=2, padding=\"SAME\")(x_in)\n",
    "        x = hk.BatchNorm(create_scale=False, create_offset=False, decay_rate=0.9)(x, is_training=is_training)\n",
    "        x = jax.nn.relu(x)\n",
    "        x = hk.Conv2D(output_channels=64, kernel_shape=(3,3), padding=\"SAME\")(x)\n",
    "        x = hk.BatchNorm(create_scale=False, create_offset=False, decay_rate=0.9)(x, is_training=is_training)\n",
    "        x = jax.nn.relu(x)\n",
    "        \n",
    "        return x\n",
    "    \n",
    "class ResNet(hk.Module):\n",
    "    \"\"\"ResNet\"\"\"\n",
    "    def __init__(self):\n",
    "        super().__init__()\n",
    "\n",
    "    def __call__(self, x_in, is_training):\n",
    "        \n",
    "        x_res1 = Res1()(x_in, is_training)\n",
    "        x = hk.Conv2D(output_channels=32, kernel_shape=1)(x_in)\n",
    "        x = x + x_res1\n",
    "        \n",
    "        x_res2 = Res2()(x, is_training)\n",
    "        x = hk.Conv2D(output_channels=64, kernel_shape=1, stride=2)(x)\n",
    "        x = x + x_res2\n",
    "        \n",
    "        x = hk.avg_pool(x, window_shape=3, strides=2, padding=\"VALID\")\n",
    "        x = hk.Flatten()(x)\n",
    "        x = hk.Linear(len(classes))(x)\n",
    "    \n",
    "        return x\n",
    "            \n",
    "\n",
    "def _resnet(x, is_training=True):\n",
    "    res_net = ResNet()\n",
    "    return res_net(x, is_training)\n",
    "\n",
    "resnet = hk.transform_with_state(_resnet)\n",
    "resnet = hk.without_apply_rng(resnet)"
   ]
  },
  {
   "cell_type": "markdown",
   "metadata": {},
   "source": [
    "#### init model"
   ]
  },
  {
   "cell_type": "code",
   "execution_count": null,
   "metadata": {},
   "outputs": [],
   "source": [
    "rng = jax.random.PRNGKey(42)\n",
    "\n",
    "x = jnp.ones((1, 32, 32, 3))\n",
    "params, batch_states = resnet.init(rng, x)\n",
    "\n",
    "print(f'param-shapes: \\n{jax.tree_map(lambda x: x.shape, params)} \\n')\n",
    "\n",
    "print('batchnorm_states-shapes: ')\n",
    "jax.tree_map(lambda x: x.shape, batch_states)"
   ]
  },
  {
   "cell_type": "markdown",
   "metadata": {},
   "source": [
    "#### check forward pass"
   ]
  },
  {
   "cell_type": "code",
   "execution_count": null,
   "metadata": {},
   "outputs": [],
   "source": [
    "x, y = next(iter(train_loader))\n",
    "print('x.shape: ', x.shape)\n",
    "\n",
    "preds, batch_states = resnet.apply(params, batch_states, x, is_training=False)\n",
    "print('preds.shape: ', preds.shape)"
   ]
  },
  {
   "cell_type": "markdown",
   "metadata": {},
   "source": [
    "#### define loss"
   ]
  },
  {
   "cell_type": "code",
   "execution_count": null,
   "metadata": {},
   "outputs": [],
   "source": [
    "def loss(params, batch_states, x, y): \n",
    "  y_onehot =  jax.nn.one_hot(y, num_classes=10)\n",
    "  y_hat, batch_states = resnet.apply(params, batch_states, x)\n",
    "  return jnp.mean(optax.softmax_cross_entropy(y_hat, y_onehot)), batch_states"
   ]
  },
  {
   "cell_type": "markdown",
   "metadata": {},
   "source": [
    "#### define optimizer and update function"
   ]
  },
  {
   "cell_type": "code",
   "execution_count": null,
   "metadata": {},
   "outputs": [],
   "source": [
    "optimizer = optax.adam(learning_rate=1e-3) \n",
    "opt_state = optimizer.init(params)\n",
    "\n",
    "@jax.jit\n",
    "def update(params, batch_states, opt_state, x, y):\n",
    "  grad, batch_states = jax.grad(loss, has_aux=True)(params, batch_states, x, y)\n",
    "  updates, opt_state = optimizer.update(grad, opt_state, params)\n",
    "  params = optax.apply_updates(params, updates)\n",
    "  return params, batch_states, opt_state"
   ]
  },
  {
   "cell_type": "markdown",
   "metadata": {},
   "source": [
    "#### train"
   ]
  },
  {
   "cell_type": "code",
   "execution_count": null,
   "metadata": {},
   "outputs": [],
   "source": [
    "EPOCHS = 1\n",
    "for epoch in range(EPOCHS): \n",
    "    for xs, ys in train_loader: \n",
    "        params, batch_states, opt_state = update(params, batch_states, opt_state, xs, ys)"
   ]
  },
  {
   "cell_type": "markdown",
   "metadata": {},
   "source": [
    "#### test"
   ]
  },
  {
   "cell_type": "code",
   "execution_count": null,
   "metadata": {},
   "outputs": [],
   "source": [
    "imgs, labels = next(iter(train_loader))\n",
    "img = imgs[0]\n",
    "im = np.expand_dims(img, axis=0)\n",
    "\n",
    "print(img.shape)\n",
    "print(im.shape)\n",
    "\n",
    "im = np.expand_dims(img, axis=0)\n",
    "\n",
    "prediction, batch_states = resnet.apply(params, batch_states, x=im, is_training=False)\n",
    "\n",
    "pred = classes[np.argmax(prediction)]\n",
    "label = classes[labels[0]]\n",
    "\n",
    "print(f'predicted: {pred}, label: {label}')\n",
    "\n",
    "import matplotlib.pyplot as plt\n",
    "plt.imshow(img*0.5 + 0.5)\n",
    "plt.axis('off')"
   ]
  }
 ],
 "metadata": {
  "interpreter": {
   "hash": "31c2e67c17392aa87f888ec0da8938d8b923f5efb5972cb4e6d22b0cd53c63d5"
  },
  "kernelspec": {
   "display_name": "Python 3.9.7 ('island')",
   "language": "python",
   "name": "python3"
  },
  "language_info": {
   "codemirror_mode": {
    "name": "ipython",
    "version": 3
   },
   "file_extension": ".py",
   "mimetype": "text/x-python",
   "name": "python",
   "nbconvert_exporter": "python",
   "pygments_lexer": "ipython3",
   "version": "3.9.6"
  },
  "orig_nbformat": 4
 },
 "nbformat": 4,
 "nbformat_minor": 2
}
